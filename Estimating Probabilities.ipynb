{
 "cells": [
  {
   "cell_type": "markdown",
   "metadata": {},
   "source": [
    "# The Empirical Probability"
   ]
  },
  {
   "cell_type": "raw",
   "metadata": {},
   "source": [
    "1.\tWe tossed a coin 100 times and got heads 56 times. Calculate the probability of getting tails using the formula above and assign the result to p_tail.\n",
    "2.\tWe rolled a regular six-sided die 200 times and:\n",
    "o\tWe got a six 28 times. Calculate the probability of getting a 6 when rolling a six-sided die. Assign the result to p_six.\n",
    "o\tWe got an odd number (a 1, a 3, or a 5) 102 times. Calculate the probability of getting an odd number when rolling a six-sided die. Assign the result to p_odd.\n",
    "3.\tPrint p_tail, p_six, and p_odd to examine the probabilities."
   ]
  },
  {
   "cell_type": "code",
   "execution_count": 1,
   "metadata": {},
   "outputs": [
    {
     "name": "stdout",
     "output_type": "stream",
     "text": [
      "Probability of getting tails is; 0.44\n",
      "Probability of getting a 6 when rolling a six-sided die is; 0.14\n",
      "Probability of getting an odd number when rolling a six-sided die is; 0.51\n"
     ]
    }
   ],
   "source": [
    "p_tail = (100-56)/100\n",
    "p_six = 28/200        \n",
    "p_odd = 102/200      \n",
    "print ('Probability of getting tails is; ' + str(p_tail))\n",
    "print ('Probability of getting a 6 when rolling a six-sided die is; ' + str(p_six))\n",
    "print ('Probability of getting an odd number when rolling a six-sided die is; ' + str(p_odd))"
   ]
  },
  {
   "cell_type": "markdown",
   "metadata": {},
   "source": [
    "# Probability as Relative Frequency"
   ]
  },
  {
   "cell_type": "raw",
   "metadata": {},
   "source": [
    "1.\tWe tossed a coin 300 times and got tails 162 times.\n",
    "o\tFind the probability of getting heads. Assign your result to p_heads_1.\n",
    "o\tTransform the probability in p_heads_1 to a percentage value. Assign the result to percentage_1.\n",
    "2.\tIn a different trial, we tossed a coin 5,000 times and got tails 2,450 times.\n",
    "o\tFind the probability of getting heads. Assign your result to p_heads_2.\n",
    "o\tTransform the probability in p_heads_2 to a percentage value. Assign the result to percentage_2."
   ]
  },
  {
   "cell_type": "code",
   "execution_count": 2,
   "metadata": {},
   "outputs": [
    {
     "name": "stdout",
     "output_type": "stream",
     "text": [
      "Probability of getting heads is; 0.46\n",
      "Percental value; 46.0%\n",
      "Probability of getting heads is; 0.51\n",
      "Percental value; 51.0%\n"
     ]
    }
   ],
   "source": [
    "p_heads_1 = (300-162)/300\n",
    "percentage_1 = p_heads_1*100\n",
    "p_heads_2 = (5000-2450)/5000\n",
    "percentage_2 = p_heads_2*100\n",
    "print ('Probability of getting heads is; ' + str(p_heads_1))\n",
    "print ('Percental value; ' + str(percentage_1) + '%')\n",
    "print ('Probability of getting heads is; ' + str(p_heads_2))\n",
    "print ('Percental value; ' + str(percentage_2) + '%')"
   ]
  },
  {
   "cell_type": "markdown",
   "metadata": {},
   "source": [
    "# Repeating an experiment"
   ]
  },
  {
   "cell_type": "raw",
   "metadata": {},
   "source": [
    "1.\tFor this exercise, we already defined the function coin_toss() and the variables probabilities and heads. We're going to repeat the coin toss 10,000 times, and for each toss we want to save the value of P(H) up to that point.\n",
    "2.\tFor each of the 10,000 iterations of a for loop:\n",
    "o\tSave the outcome of the coin_toss() function to a variable named outcome.\n",
    "o\tIf outcome stores the string 'HEAD', then increase the value of heads by 1.\n",
    "o\tDivide heads by n to get the current value of P(H). Assign the value to current_probability.\n",
    "\tn comes from for n in range(1, 10001)\n",
    "o\tAppend current_probability to the list probabilities. The probabilities should be expressed as proportions, not percentages.\n",
    "3.\tPrint the first and last 10 values in probabilities to inspect the evolution of P(H)."
   ]
  },
  {
   "cell_type": "code",
   "execution_count": 3,
   "metadata": {},
   "outputs": [
    {
     "name": "stdout",
     "output_type": "stream",
     "text": [
      "[1.0, 1.0, 0.6666666666666666, 0.5, 0.6, 0.6666666666666666, 0.7142857142857143, 0.75, 0.7777777777777778, 0.7]\n",
      "[0.4993494144730257, 0.49939951961569257, 0.4993495446812769, 0.4993996397838703, 0.4993496748374187, 0.4992997198879552, 0.49934980494148246, 0.4993998799759952, 0.49934993499349933, 0.4994]\n"
     ]
    }
   ],
   "source": [
    "# INITIAL CODE\n",
    "from numpy.random import seed, randint\n",
    "\n",
    "seed(1)\n",
    "\n",
    "def coin_toss():\n",
    "    if randint(0,2) == 1:\n",
    "        return 'HEAD'\n",
    "    else:\n",
    "        return 'TAIL'\n",
    "    \n",
    "probabilities = []\n",
    "heads = 0\n",
    "\n",
    "for n in range(1, 10001):\n",
    "    # Uncomment above and complete code from here\n",
    "    outcome = coin_toss()\n",
    "    if outcome == 'HEAD':\n",
    "        heads += 1\n",
    "    current_probability = heads / n\n",
    "    probabilities.append(current_probability)\n",
    "\n",
    "print(probabilities[:10])\n",
    "print(probabilities[-10:])"
   ]
  },
  {
   "cell_type": "markdown",
   "metadata": {},
   "source": [
    "# The true probability value\n",
    "An insurance company conducted a study with 200 individuals, and found that:\n",
    "•\t87 individuals opted for at least a life insurance policy.\n",
    "•\t40 individuals opted for at least life and car insurance policies. \n",
    "•\t63 individuals opted for at least a house insurance policy.\n",
    "•\t160 individuals opted for at least one type of insurance policy."
   ]
  },
  {
   "cell_type": "raw",
   "metadata": {},
   "source": [
    "We can't predict people's choices with certainty, so an individual choosing to buy an insurance policy is a random experiment. 200 individuals were part of the study, so you can consider the random experiment was performed 200 times. Find:\n",
    "1.\tP(L): The probability that a new customer opts for at least a life insurance. Assign your answer to a variable named p_l.\n",
    "2.\tP(L and C): The probability that an individual opts for at least a life and a car insurance policy. Assign your answer to a variable named p_l_and_c.\n",
    "3.\tP(H): The probability that an individual opts for at least a house insurance policy. Assign your answer to a variable named p_h.\n",
    "4.\tP(NO): The probability that an individual opts for no insurance at all. Assign your answer to a variable named p_no."
   ]
  },
  {
   "cell_type": "code",
   "execution_count": 4,
   "metadata": {},
   "outputs": [],
   "source": [
    "p_l = 87 / 200 \n",
    "p_l_and_c = 40 / 200\n",
    "p_h = 63 / 200\n",
    "p_no = (200-160) / 200"
   ]
  },
  {
   "cell_type": "markdown",
   "metadata": {},
   "source": [
    "# The theoretical probability"
   ]
  },
  {
   "cell_type": "raw",
   "metadata": {},
   "source": [
    "1.\tFind the theoretical probability of getting a 5 when rolling a six-sided die. Assign your answer to p_5.\n",
    "2.\tTossing a coin twice has four possible outcomes (assume all the outcomes are equally likely):\n",
    "o\tHeads on the first toss and heads on the second toss (HH).\n",
    "o\tHeads on the first toss and tails on the second (HT).\n",
    "o\tTails on the first toss and heads on the second (TH).\n",
    "o\tTails on the first toss and tails on the second (TT).\n",
    "3.\tFind:\n",
    "o\tP(HT): Assign your result to p_ht.\n",
    "o\tP(TT): Assign your result to p_tt."
   ]
  },
  {
   "cell_type": "code",
   "execution_count": 5,
   "metadata": {},
   "outputs": [],
   "source": [
    "p_5 = 1 / 6\n",
    "p_ht = 1 / 4\n",
    "p_tt = 1 / 4"
   ]
  },
  {
   "cell_type": "markdown",
   "metadata": {},
   "source": [
    "# Events Vs. Outcomes"
   ]
  },
  {
   "cell_type": "raw",
   "metadata": {},
   "source": [
    "Assume all the outcomes of rolling a six-sided die have an equal chance of occuring. Calculate as proportion the probability of the following events:\n",
    "•\tWe get an even number — assign your answer to p_even.\n",
    "•\tWe get an odd number different than 3 — assign your answer to p_odd_no_3.\n",
    "•\tWe get an odd number greater than 5 — assign your answer to p_odd_greater_5."
   ]
  },
  {
   "cell_type": "code",
   "execution_count": 6,
   "metadata": {},
   "outputs": [],
   "source": [
    "p_even = 3 / 6\n",
    "p_odd_no_3 = 2 / 6\n",
    "p_odd_greater_5 = 0 / 6"
   ]
  },
  {
   "cell_type": "code",
   "execution_count": null,
   "metadata": {},
   "outputs": [],
   "source": []
  }
 ],
 "metadata": {
  "kernelspec": {
   "display_name": "Python 3",
   "language": "python",
   "name": "python3"
  },
  "language_info": {
   "codemirror_mode": {
    "name": "ipython",
    "version": 3
   },
   "file_extension": ".py",
   "mimetype": "text/x-python",
   "name": "python",
   "nbconvert_exporter": "python",
   "pygments_lexer": "ipython3",
   "version": "3.7.3"
  }
 },
 "nbformat": 4,
 "nbformat_minor": 2
}
